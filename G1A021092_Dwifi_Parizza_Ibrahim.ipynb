{
  "nbformat": 4,
  "nbformat_minor": 0,
  "metadata": {
    "colab": {
      "provenance": []
    },
    "kernelspec": {
      "name": "python3",
      "display_name": "Python 3"
    },
    "language_info": {
      "name": "python"
    }
  },
  "cells": [
    {
      "cell_type": "markdown",
      "source": [
        "**NAMA : DWIFI PARIZZA IBRAHIM**\n",
        "\n",
        "**NPM  : G1A021092**\n",
        "\n",
        "**KELAS: INFORMATIKA B**\n",
        "\n",
        "**MK   : Machine Learning**"
      ],
      "metadata": {
        "id": "2yI8fZOXFZi7"
      }
    },
    {
      "cell_type": "markdown",
      "source": [
        "**Kode 1: Implementasi Robinson-Foulds Distance**"
      ],
      "metadata": {
        "id": "oTy_HEhxFGhX"
      }
    },
    {
      "cell_type": "code",
      "execution_count": null,
      "metadata": {
        "colab": {
          "base_uri": "https://localhost:8080/"
        },
        "id": "-Z39xaifviOW",
        "outputId": "743d92aa-afd5-4c2e-f214-5ddc92d2a96d"
      },
      "outputs": [
        {
          "output_type": "stream",
          "name": "stdout",
          "text": [
            "\n",
            "Robinson-Foulds Distance: 2.0\n"
          ]
        }
      ],
      "source": [
        "import numpy as np\n",
        "\n",
        "class TreeNode:\n",
        "    def __init__(self, label):\n",
        "        self.label = label\n",
        "        self.children = []\n",
        "\n",
        "def robinson_foulds_distance(tree1, tree2):\n",
        "    leaves1 = get_leaf_labels(tree1)\n",
        "    leaves2 = get_leaf_labels(tree2)\n",
        "\n",
        "    symmetric_diff = symmetric_set_difference(leaves1, leaves2)\n",
        "\n",
        "    distance = len(symmetric_diff) / 2.0\n",
        "    return distance\n",
        "\n",
        "def get_leaf_labels(tree):\n",
        "    if not tree.children:\n",
        "        return [tree.label]\n",
        "    else:\n",
        "        leaf_labels = []\n",
        "        for child in tree.children:\n",
        "            leaf_labels.extend(get_leaf_labels(child))\n",
        "        return leaf_labels\n",
        "\n",
        "def symmetric_set_difference(set1, set2):\n",
        "    return list(set(set1) ^ set(set2))\n",
        "\n",
        "print(f\"\\nRobinson-Foulds Distance: {distance}\")"
      ]
    },
    {
      "cell_type": "markdown",
      "source": [
        "**Kode 2: Pengelompokan K-Means**"
      ],
      "metadata": {
        "id": "gkky2IDzFN0N"
      }
    },
    {
      "cell_type": "code",
      "source": [
        "import numpy as np\n",
        "from sklearn.cluster import KMeans\n",
        "\n",
        "class TreeNode:\n",
        "    def __init__(self, label):\n",
        "        self.label = label\n",
        "        self.children = []\n",
        "\n",
        "def compute_distance_matrix(trees):\n",
        "    n = len(trees)\n",
        "    distance_matrix = np.zeros((n, n))\n",
        "\n",
        "    for i in range(n):\n",
        "        for j in range(i + 1, n):\n",
        "            distance = robinson_foulds_distance(trees[i], trees[j])\n",
        "            distance_matrix[i, j] = distance\n",
        "            distance_matrix[j, i] = distance\n",
        "\n",
        "    return distance_matrix\n",
        "\n",
        "def kmeans_clustering(distance_matrix, num_clusters):\n",
        "    kmeans = KMeans(n_clusters=num_clusters)\n",
        "    clusters = kmeans.fit_predict(distance_matrix)\n",
        "    return clusters\n",
        "\n",
        "# Tree nodes\n",
        "tree1 = TreeNode(\"A\")\n",
        "tree1.children = [TreeNode(\"B\"), TreeNode(\"C\")]\n",
        "\n",
        "tree2 = TreeNode(\"A\")\n",
        "tree2.children = [TreeNode(\"D\"), TreeNode(\"E\")]\n",
        "\n",
        "tree3 = TreeNode(\"X\")\n",
        "tree3.children = [TreeNode(\"Y\"), TreeNode(\"Z\")]\n",
        "\n",
        "tree4 = TreeNode(\"X\")\n",
        "tree4.children = [TreeNode(\"W\"), TreeNode(\"Y\")]\n",
        "\n",
        "# Example list of phylogenetic trees\n",
        "tree_list = [tree1, tree2, tree3, tree4]\n",
        "\n",
        "# Calculate Robinson-Foulds distance matrix\n",
        "distance_matrix = compute_distance_matrix(tree_list)\n",
        "\n",
        "# Determine the number of clusters (adjust as needed)\n",
        "num_clusters = 2\n",
        "\n",
        "# Use K-Means clustering algorithm\n",
        "clusters = kmeans_clustering(distance_matrix, num_clusters)\n",
        "\n",
        "# Display the clustering results\n",
        "for i in range(num_clusters):\n",
        "    print(f\"Cluster {i + 1}:\")\n",
        "    cluster_indices = np.where(clusters == i)[0]\n",
        "    for idx in cluster_indices:\n",
        "        print(f\"Tree {idx + 1}\")\n",
        "    print(\"\\n\")\n"
      ],
      "metadata": {
        "colab": {
          "base_uri": "https://localhost:8080/"
        },
        "id": "iMkJhrE0wwXX",
        "outputId": "0ab7b380-1b9e-42cb-8266-cc4d4b0aa97f"
      },
      "execution_count": null,
      "outputs": [
        {
          "output_type": "stream",
          "name": "stdout",
          "text": [
            "Cluster 1:\n",
            "Tree 1\n",
            "Tree 2\n",
            "\n",
            "\n",
            "Cluster 2:\n",
            "Tree 3\n",
            "Tree 4\n",
            "\n",
            "\n"
          ]
        },
        {
          "output_type": "stream",
          "name": "stderr",
          "text": [
            "/usr/local/lib/python3.10/dist-packages/sklearn/cluster/_kmeans.py:870: FutureWarning: The default value of `n_init` will change from 10 to 'auto' in 1.4. Set the value of `n_init` explicitly to suppress the warning\n",
            "  warnings.warn(\n"
          ]
        }
      ]
    },
    {
      "cell_type": "markdown",
      "source": [
        "**Kode 3: Algoritma Konsensus**"
      ],
      "metadata": {
        "id": "-nvRSkMmFSVV"
      }
    },
    {
      "cell_type": "code",
      "source": [
        "import numpy as np\n",
        "from sklearn.cluster import KMeans\n",
        "\n",
        "class TreeNode:\n",
        "    def __init__(self, label):\n",
        "        self.label = label\n",
        "        self.children = []\n",
        "\n",
        "def robinson_foulds_distance(tree1, tree2):\n",
        "    leaves1 = get_leaf_labels(tree1)\n",
        "    leaves2 = get_leaf_labels(tree2)\n",
        "\n",
        "    symmetric_diff = symmetric_set_difference(leaves1, leaves2)\n",
        "\n",
        "    distance = len(symmetric_diff) / 2.0\n",
        "    return distance\n",
        "\n",
        "def get_leaf_labels(tree):\n",
        "    if not tree.children:\n",
        "        return [tree.label]\n",
        "    else:\n",
        "        leaf_labels = []\n",
        "        for child in tree.children:\n",
        "            leaf_labels.extend(get_leaf_labels(child))\n",
        "        return leaf_labels\n",
        "\n",
        "def symmetric_set_difference(set1, set2):\n",
        "    return list(set(set1) ^ set(set2))\n",
        "\n",
        "def compute_distance_matrix(trees):\n",
        "    n = len(trees)\n",
        "    distance_matrix = np.zeros((n, n))\n",
        "\n",
        "    for i in range(n):\n",
        "        for j in range(i + 1, n):\n",
        "            distance = robinson_foulds_distance(trees[i], trees[j])\n",
        "            distance_matrix[i, j] = distance\n",
        "            distance_matrix[j, i] = distance\n",
        "\n",
        "    return distance_matrix\n",
        "\n",
        "def kmeans_clustering(distance_matrix, num_clusters):\n",
        "    kmeans = KMeans(n_clusters=num_clusters)\n",
        "    clusters = kmeans.fit_predict(distance_matrix)\n",
        "    return clusters\n",
        "\n",
        "def consensus_tree(cluster_trees):\n",
        "    # Implementasi algoritma konsensus (sederhana)\n",
        "    # Pilih simpul terbanyak dari semua pohon dalam kelompok\n",
        "    # dan bentuk pohon konsensus dengan simpul-simpul tersebut\n",
        "    consensus_root = TreeNode(\"Consensus\")\n",
        "    consensus_root.children = majority_vote_nodes(cluster_trees)\n",
        "    return consensus_root\n",
        "\n",
        "def majority_vote_nodes(trees):\n",
        "    # Memilih simpul terbanyak dari semua pohon dalam kelompok\n",
        "    # Dalam kasus ini, kita menganggap setiap simpul sebagai suara\n",
        "    # dan memilih simpul dengan suara terbanyak\n",
        "    nodes = [node for tree in trees for node in get_all_nodes(tree)]\n",
        "    node_counts = {node: nodes.count(node) for node in set(nodes)}\n",
        "    majority_nodes = [node for node, count in node_counts.items() if count == max(node_counts.values())]\n",
        "    return majority_nodes\n",
        "\n",
        "def get_all_nodes(tree):\n",
        "    # Mendapatkan semua simpul dari suatu pohon secara rekursif\n",
        "    nodes = [tree]\n",
        "    for child in tree.children:\n",
        "        nodes.extend(get_all_nodes(child))\n",
        "    return nodes\n",
        "\n",
        "def is_binary_tree(tree):\n",
        "    # Fungsi untuk memeriksa apakah pohon adalah pohon biner\n",
        "    # Misalnya, Anda dapat menggunakan algoritma BFS atau DFS untuk memeriksa struktur pohon\n",
        "    # Kembalikan True jika pohon adalah pohon biner, False sebaliknya\n",
        "    # (Implementasi ini hanya contoh, Anda mungkin perlu mengadaptasi sesuai kebutuhan)\n",
        "    return True\n",
        "\n",
        "def display_tree(node, level=0, prefix=\"Root: \"):\n",
        "    if node is not None:\n",
        "        print(\" \" * (level * 4) + prefix + node.label)\n",
        "        for child in node.children:\n",
        "            display_tree(child, level + 1, \"Child: \")\n",
        "\n",
        "# Tree nodes\n",
        "tree1 = TreeNode(\"A\")\n",
        "tree1.children = [TreeNode(\"B\"), TreeNode(\"C\")]\n",
        "\n",
        "tree2 = TreeNode(\"A\")\n",
        "tree2.children = [TreeNode(\"D\"), TreeNode(\"E\")]\n",
        "\n",
        "tree3 = TreeNode(\"X\")\n",
        "tree3.children = [TreeNode(\"Y\"), TreeNode(\"Z\")]\n",
        "\n",
        "tree4 = TreeNode(\"X\")\n",
        "tree4.children = [TreeNode(\"W\"), TreeNode(\"Y\")]\n",
        "\n",
        "# Example list of phylogenetic trees\n",
        "tree_list = [tree1, tree2, tree3, tree4]\n",
        "\n",
        "# Calculate Robinson-Foulds distance matrix\n",
        "distance_matrix = compute_distance_matrix(tree_list)\n",
        "\n",
        "# Determine the number of clusters (adjust as needed)\n",
        "num_clusters = 2\n",
        "\n",
        "# Use K-Means clustering algorithm\n",
        "clusters = kmeans_clustering(distance_matrix, num_clusters)\n",
        "\n",
        "# Display the clustering results\n",
        "for i in range(num_clusters):\n",
        "    print(f\"Cluster {i + 1}:\")\n",
        "    cluster_indices = np.where(clusters == i)[0]\n",
        "\n",
        "    # Extract trees for the current cluster\n",
        "    cluster_trees = [tree_list[idx] for idx in cluster_indices]\n",
        "\n",
        "    # Generate consensus tree for the cluster\n",
        "    consensus_tree_root = consensus_tree(cluster_trees)\n",
        "\n",
        "    # Display consensus tree\n",
        "    print(\"Consensus Tree:\")\n",
        "    display_tree(consensus_tree_root)\n",
        "    print(\"Is Binary Tree:\", is_binary_tree(consensus_tree_root))\n",
        "    print(\"\\n\")\n"
      ],
      "metadata": {
        "colab": {
          "base_uri": "https://localhost:8080/"
        },
        "id": "Q66zlitlv3LN",
        "outputId": "9d5a037c-4238-4ad8-db79-892c5e23f3ec"
      },
      "execution_count": null,
      "outputs": [
        {
          "output_type": "stream",
          "name": "stdout",
          "text": [
            "Cluster 1:\n",
            "Consensus Tree:\n",
            "Root: Consensus\n",
            "    Child: Z\n",
            "    Child: Y\n",
            "    Child: W\n",
            "    Child: X\n",
            "        Child: Y\n",
            "        Child: Z\n",
            "    Child: X\n",
            "        Child: W\n",
            "        Child: Y\n",
            "    Child: Y\n",
            "Is Binary Tree: True\n",
            "\n",
            "\n",
            "Cluster 2:\n",
            "Consensus Tree:\n",
            "Root: Consensus\n",
            "    Child: A\n",
            "        Child: B\n",
            "        Child: C\n",
            "    Child: A\n",
            "        Child: D\n",
            "        Child: E\n",
            "    Child: D\n",
            "    Child: C\n",
            "    Child: E\n",
            "    Child: B\n",
            "Is Binary Tree: True\n",
            "\n",
            "\n"
          ]
        },
        {
          "output_type": "stream",
          "name": "stderr",
          "text": [
            "/usr/local/lib/python3.10/dist-packages/sklearn/cluster/_kmeans.py:870: FutureWarning: The default value of `n_init` will change from 10 to 'auto' in 1.4. Set the value of `n_init` explicitly to suppress the warning\n",
            "  warnings.warn(\n"
          ]
        }
      ]
    }
  ]
}